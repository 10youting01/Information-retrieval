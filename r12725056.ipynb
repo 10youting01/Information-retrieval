{
 "cells": [
  {
   "cell_type": "code",
   "execution_count": 1,
   "id": "06c222dc",
   "metadata": {
    "_cell_guid": "b1076dfc-b9ad-4769-8c92-a6c4dae69d19",
    "_uuid": "8f2839f25d086af736a60e9eeb907d3b93b6e0e5",
    "execution": {
     "iopub.execute_input": "2023-12-04T15:31:37.063132Z",
     "iopub.status.busy": "2023-12-04T15:31:37.062605Z",
     "iopub.status.idle": "2023-12-04T15:31:37.815642Z",
     "shell.execute_reply": "2023-12-04T15:31:37.814427Z"
    },
    "papermill": {
     "duration": 0.766402,
     "end_time": "2023-12-04T15:31:37.818889",
     "exception": false,
     "start_time": "2023-12-04T15:31:37.052487",
     "status": "completed"
    },
    "tags": []
   },
   "outputs": [],
   "source": [
    "# This Python 3 environment comes with many helpful analytics libraries installed\n",
    "# It is defined by the kaggle/python Docker image: https://github.com/kaggle/docker-python\n",
    "# For example, here's several helpful packages to load\n",
    "\n",
    "import numpy as np # linear algebra\n",
    "import pandas as pd # data processing, CSV file I/O (e.g. pd.read_csv)\n",
    "import math\n",
    "\n",
    "# Input data files are available in the read-only \"../input/\" directory\n",
    "# For example, running this (by clicking run or pressing Shift+Enter) will list all files under the input directory\n",
    "\n",
    "import os\n",
    "x = 0\n",
    "for dirname, _, filenames in os.walk('/kaggle/input'):\n",
    "    for filename in filenames:\n",
    "#         print(os.path.join(dirname, filename))\n",
    "        x += 1 \n",
    "    \n",
    "\n",
    "# You can write up to 20GB to the current directory (/kaggle/working/) that gets preserved as output when you create a version using \"Save & Run All\" \n",
    "# You can also write temporary files to /kaggle/temp/, but they won't be saved outside of the current session"
   ]
  },
  {
   "cell_type": "code",
   "execution_count": 2,
   "id": "d444f00e",
   "metadata": {
    "execution": {
     "iopub.execute_input": "2023-12-04T15:31:37.832438Z",
     "iopub.status.busy": "2023-12-04T15:31:37.831925Z",
     "iopub.status.idle": "2023-12-04T15:31:39.739455Z",
     "shell.execute_reply": "2023-12-04T15:31:39.738144Z"
    },
    "papermill": {
     "duration": 1.917381,
     "end_time": "2023-12-04T15:31:39.742301",
     "exception": false,
     "start_time": "2023-12-04T15:31:37.824920",
     "status": "completed"
    },
    "tags": []
   },
   "outputs": [],
   "source": [
    "from nltk.stem import PorterStemmer\n",
    "ps = PorterStemmer()"
   ]
  },
  {
   "cell_type": "code",
   "execution_count": 3,
   "id": "5bd6332b",
   "metadata": {
    "execution": {
     "iopub.execute_input": "2023-12-04T15:31:39.755719Z",
     "iopub.status.busy": "2023-12-04T15:31:39.755261Z",
     "iopub.status.idle": "2023-12-04T15:31:39.778724Z",
     "shell.execute_reply": "2023-12-04T15:31:39.777431Z"
    },
    "papermill": {
     "duration": 0.033238,
     "end_time": "2023-12-04T15:31:39.781458",
     "exception": false,
     "start_time": "2023-12-04T15:31:39.748220",
     "status": "completed"
    },
    "tags": []
   },
   "outputs": [],
   "source": [
    "sam = pd.read_csv(\"/kaggle/input/2023-irtmhw3/hw3_sam.csv\")\n",
    "train = pd.DataFrame(np.loadtxt(\"/kaggle/input/2023-irtmhw3/training.txt\", dtype = int))"
   ]
  },
  {
   "cell_type": "code",
   "execution_count": 4,
   "id": "14e567fa",
   "metadata": {
    "execution": {
     "iopub.execute_input": "2023-12-04T15:31:39.796039Z",
     "iopub.status.busy": "2023-12-04T15:31:39.795584Z",
     "iopub.status.idle": "2023-12-04T15:31:39.812499Z",
     "shell.execute_reply": "2023-12-04T15:31:39.811358Z"
    },
    "papermill": {
     "duration": 0.028193,
     "end_time": "2023-12-04T15:31:39.816590",
     "exception": false,
     "start_time": "2023-12-04T15:31:39.788397",
     "status": "completed"
    },
    "tags": []
   },
   "outputs": [],
   "source": [
    "par_path = \"/kaggle/input/newsdoc/IRTM\"\n",
    "allc = []\n",
    "training = []\n",
    "for i in range(13):\n",
    "    cla = []\n",
    "    for j in range(1,16):\n",
    "        sub = str(train.iat[i,j]) + \".txt\"\n",
    "        training.append(train.iat[i,j])"
   ]
  },
  {
   "cell_type": "code",
   "execution_count": 5,
   "id": "4737be1c",
   "metadata": {
    "execution": {
     "iopub.execute_input": "2023-12-04T15:31:39.831166Z",
     "iopub.status.busy": "2023-12-04T15:31:39.830748Z",
     "iopub.status.idle": "2023-12-04T15:31:39.843856Z",
     "shell.execute_reply": "2023-12-04T15:31:39.842760Z"
    },
    "papermill": {
     "duration": 0.023676,
     "end_time": "2023-12-04T15:31:39.846590",
     "exception": false,
     "start_time": "2023-12-04T15:31:39.822914",
     "status": "completed"
    },
    "tags": []
   },
   "outputs": [],
   "source": [
    "def extract_doc(d_idx): # doc index\n",
    "    par_path = \"/kaggle/input/newsdoc/IRTM\"\n",
    "    file_path = os.path.join(par_path, str(d_idx)+\".txt\")\n",
    "    d = [] \n",
    "    if os.path.isfile(file_path) and sub.endswith(\".txt\"):\n",
    "        with open(file_path, 'r') as f:\n",
    "            content = f.read()\n",
    "            d.append(content)\n",
    "            \n",
    "    doc = []\n",
    "    tmp = []\n",
    "    # split\n",
    "    for con in d:\n",
    "        con = con.split()\n",
    "        tmp.extend(con)\n",
    "        \n",
    "    tmpd = {}\n",
    "    for term in tmp:\n",
    "        new_t = term.replace('!', '').replace('(', '').replace(')', '').replace('-', '').replace('[', '').replace(']', '').replace('{', '').replace('}', '').replace(';', '').replace(':', '').replace('\"', '').replace('\\'', '').replace(',', '').replace('<', '').replace('>', '').replace('.', '').replace('/', '').replace('?', '').replace('@', '').replace('#', '').replace('$', '').replace('%', '').replace('^', '').replace('&', '').replace('*', '').replace('*', '').replace('_', '').replace('~', '').replace('`', '').replace(' ', '')\n",
    "        if any(char.isnumeric() for char in new_t): # remove numeric\n",
    "            continue\n",
    "        if len(new_t) > 0:\n",
    "            new_t = new_t.lower() # lower\n",
    "            new_t = ps.stem(new_t) # stemming\n",
    "            tmpd[new_t] = None # remove duplicate\n",
    "        doc = list(tmpd)\n",
    "        \n",
    "    with open('/kaggle/input/stopwords/stopwords.txt') as st:\n",
    "        stopword = list(st)\n",
    "        \n",
    "    stopwords = [words.split() for words in stopword]\n",
    "    # put every stopword in different list into the same list\n",
    "    stopwords = sum(stopwords, []) \n",
    "    \n",
    "    fdoc = []\n",
    "    for term in doc:\n",
    "        if term not in stopwords:\n",
    "            fdoc.append(term)\n",
    "    \n",
    "    return fdoc"
   ]
  },
  {
   "cell_type": "code",
   "execution_count": 6,
   "id": "30749ef6",
   "metadata": {
    "execution": {
     "iopub.execute_input": "2023-12-04T15:31:39.860319Z",
     "iopub.status.busy": "2023-12-04T15:31:39.859895Z",
     "iopub.status.idle": "2023-12-04T15:31:44.364399Z",
     "shell.execute_reply": "2023-12-04T15:31:44.363356Z"
    },
    "papermill": {
     "duration": 4.514399,
     "end_time": "2023-12-04T15:31:44.367024",
     "exception": false,
     "start_time": "2023-12-04T15:31:39.852625",
     "status": "completed"
    },
    "tags": []
   },
   "outputs": [],
   "source": [
    "dataset = []\n",
    "\n",
    "current = []\n",
    "for idx, doc_idx in enumerate(training):\n",
    "    current.append(extract_doc(doc_idx))\n",
    "    \n",
    "    if(idx+1)%15 == 0:\n",
    "        dataset.append(current)\n",
    "        current = []\n",
    "        \n",
    "if current:\n",
    "    dataset.append(current)\n"
   ]
  },
  {
   "cell_type": "code",
   "execution_count": 7,
   "id": "4b92df00",
   "metadata": {
    "execution": {
     "iopub.execute_input": "2023-12-04T15:31:44.381488Z",
     "iopub.status.busy": "2023-12-04T15:31:44.381079Z",
     "iopub.status.idle": "2023-12-04T15:31:45.144503Z",
     "shell.execute_reply": "2023-12-04T15:31:45.143383Z"
    },
    "papermill": {
     "duration": 0.773748,
     "end_time": "2023-12-04T15:31:45.147066",
     "exception": false,
     "start_time": "2023-12-04T15:31:44.373318",
     "status": "completed"
    },
    "tags": []
   },
   "outputs": [],
   "source": [
    "voc = []\n",
    "\n",
    "for cla in dataset:\n",
    "    for doc in cla:\n",
    "        for term in doc:\n",
    "            if term not in voc:\n",
    "                voc.append(term)\n"
   ]
  },
  {
   "cell_type": "markdown",
   "id": "62c0354b",
   "metadata": {
    "execution": {
     "iopub.execute_input": "2023-12-04T14:30:13.894245Z",
     "iopub.status.busy": "2023-12-04T14:30:13.893846Z",
     "iopub.status.idle": "2023-12-04T14:30:13.905481Z",
     "shell.execute_reply": "2023-12-04T14:30:13.904065Z",
     "shell.execute_reply.started": "2023-12-04T14:30:13.894210Z"
    },
    "papermill": {
     "duration": 0.00589,
     "end_time": "2023-12-04T15:31:45.158658",
     "exception": false,
     "start_time": "2023-12-04T15:31:45.152768",
     "status": "completed"
    },
    "tags": []
   },
   "source": [
    "data = []\n",
    "for cla in dataset:\n",
    "    c = []\n",
    "    for term in cla:\n",
    "        if term not in c:\n",
    "            c.extend(term)\n",
    "    data.append(c)"
   ]
  },
  {
   "cell_type": "markdown",
   "id": "4cd5b2d3",
   "metadata": {
    "papermill": {
     "duration": 0.005422,
     "end_time": "2023-12-04T15:31:45.169884",
     "exception": false,
     "start_time": "2023-12-04T15:31:45.164462",
     "status": "completed"
    },
    "tags": []
   },
   "source": [
    "### M*|C| P(X=t|c) parameters"
   ]
  },
  {
   "cell_type": "code",
   "execution_count": 8,
   "id": "13896483",
   "metadata": {
    "execution": {
     "iopub.execute_input": "2023-12-04T15:31:45.183579Z",
     "iopub.status.busy": "2023-12-04T15:31:45.183158Z",
     "iopub.status.idle": "2023-12-04T15:32:33.836638Z",
     "shell.execute_reply": "2023-12-04T15:32:33.835435Z"
    },
    "papermill": {
     "duration": 48.665146,
     "end_time": "2023-12-04T15:32:33.840822",
     "exception": false,
     "start_time": "2023-12-04T15:31:45.175676",
     "status": "completed"
    },
    "tags": []
   },
   "outputs": [],
   "source": [
    "# term present on / present off / absent on / absent off topic\n",
    "\n",
    "df = pd.DataFrame(None, columns = voc, index = range(13))\n",
    "for term in voc:\n",
    "    for cidx, topic in enumerate(dataset):\n",
    "        n11 = sum(term in doc for doc in topic)\n",
    "        n10 = 15 - n11\n",
    "        n01 = sum(term in odoc for ocla in dataset[:cidx]+dataset[cidx+1:] for odoc in ocla)\n",
    "        n00 = 180 - n01 # (13-1) * 15 = 180\n",
    "\n",
    "        n = [\n",
    "            [n11, n10],\n",
    "            [n01, n00]\n",
    "        ]\n",
    "        df[term][cidx] = n"
   ]
  },
  {
   "cell_type": "code",
   "execution_count": 9,
   "id": "ed46b70f",
   "metadata": {
    "execution": {
     "iopub.execute_input": "2023-12-04T15:32:33.855238Z",
     "iopub.status.busy": "2023-12-04T15:32:33.854797Z",
     "iopub.status.idle": "2023-12-04T15:32:33.863381Z",
     "shell.execute_reply": "2023-12-04T15:32:33.862041Z"
    },
    "papermill": {
     "duration": 0.018568,
     "end_time": "2023-12-04T15:32:33.865726",
     "exception": false,
     "start_time": "2023-12-04T15:32:33.847158",
     "status": "completed"
    },
    "tags": []
   },
   "outputs": [],
   "source": [
    "def binom_exp(n):\n",
    "    n11 = n[0][0]\n",
    "    n01 = n[1][0]\n",
    "    n10 = n[0][1]\n",
    "    n00 = n[1][1] \n",
    "    N = 195 # # of all training dataset\n",
    "    pt = (n11+n01) / N\n",
    "    p1 = n11 / (n11+n10)\n",
    "    p2 = n01 / (n01+n00)\n",
    "    \n",
    "    LH1 = (pt**n11) * ((1-pt)**n10)* (pt**n01) * ((1-pt)**n00)\n",
    "    LH2 = (p1**n11) * ((1-p1)**n10)* (p2**n01) * ((1-p2)**n00)\n",
    "    \n",
    "    LLR = -2*math.log(LH1/LH2)\n",
    "    return LLR"
   ]
  },
  {
   "cell_type": "code",
   "execution_count": 10,
   "id": "563c7520",
   "metadata": {
    "execution": {
     "iopub.execute_input": "2023-12-04T15:32:33.881276Z",
     "iopub.status.busy": "2023-12-04T15:32:33.880211Z",
     "iopub.status.idle": "2023-12-04T15:32:40.802788Z",
     "shell.execute_reply": "2023-12-04T15:32:40.801603Z"
    },
    "papermill": {
     "duration": 6.932807,
     "end_time": "2023-12-04T15:32:40.805621",
     "exception": false,
     "start_time": "2023-12-04T15:32:33.872814",
     "status": "completed"
    },
    "tags": []
   },
   "outputs": [],
   "source": [
    "LLR_df = pd.DataFrame(None, columns = voc, index = range(13))\n",
    "\n",
    "for term in voc:\n",
    "    for i in range(13):\n",
    "        LLR_df[term][i] = binom_exp(df[term][i])"
   ]
  },
  {
   "cell_type": "code",
   "execution_count": 11,
   "id": "239c311f",
   "metadata": {
    "execution": {
     "iopub.execute_input": "2023-12-04T15:32:40.819901Z",
     "iopub.status.busy": "2023-12-04T15:32:40.819244Z",
     "iopub.status.idle": "2023-12-04T15:32:40.837613Z",
     "shell.execute_reply": "2023-12-04T15:32:40.836424Z"
    },
    "papermill": {
     "duration": 0.028636,
     "end_time": "2023-12-04T15:32:40.840272",
     "exception": false,
     "start_time": "2023-12-04T15:32:40.811636",
     "status": "completed"
    },
    "tags": []
   },
   "outputs": [],
   "source": [
    "tmpdf = LLR_df.sum().sort_values(ascending = False)\n",
    "tmpdf = tmpdf.head(500)\n",
    "term500 = list(tmpdf.index)"
   ]
  },
  {
   "cell_type": "code",
   "execution_count": 12,
   "id": "02d35c54",
   "metadata": {
    "execution": {
     "iopub.execute_input": "2023-12-04T15:32:40.855518Z",
     "iopub.status.busy": "2023-12-04T15:32:40.854129Z",
     "iopub.status.idle": "2023-12-04T15:32:40.867909Z",
     "shell.execute_reply": "2023-12-04T15:32:40.866625Z"
    },
    "papermill": {
     "duration": 0.023843,
     "end_time": "2023-12-04T15:32:40.870589",
     "exception": false,
     "start_time": "2023-12-04T15:32:40.846746",
     "status": "completed"
    },
    "tags": []
   },
   "outputs": [],
   "source": [
    "LLR_500 = LLR_df[term500]\n",
    "df500 = df[term500]"
   ]
  },
  {
   "cell_type": "code",
   "execution_count": 13,
   "id": "69a73455",
   "metadata": {
    "execution": {
     "iopub.execute_input": "2023-12-04T15:32:40.884985Z",
     "iopub.status.busy": "2023-12-04T15:32:40.884552Z",
     "iopub.status.idle": "2023-12-04T15:32:40.892987Z",
     "shell.execute_reply": "2023-12-04T15:32:40.891655Z"
    },
    "papermill": {
     "duration": 0.019124,
     "end_time": "2023-12-04T15:32:40.895986",
     "exception": false,
     "start_time": "2023-12-04T15:32:40.876862",
     "status": "completed"
    },
    "tags": []
   },
   "outputs": [],
   "source": [
    "def TrainMNB(df):\n",
    "    N = 195 # # training dataset\n",
    "    \n",
    "    cla_len = []\n",
    "    prior = []\n",
    "    for c in range(df.shape[0]):\n",
    "        tmp = df.iloc[c, :]\n",
    "        tmp = sum([i[0][0] for i in tmp])\n",
    "        cla_len.append(tmp)\n",
    "        \n",
    "    condprob = pd.DataFrame(None, columns = term500, index = range(13))\n",
    "    \n",
    "    for c in range(df.shape[0]):\n",
    "        Nc = 15 # # doc in class\n",
    "        prior.append(Nc / N)\n",
    "        V = len(term500)\n",
    "        for i, t in enumerate(term500):\n",
    "            Tct = df[t][c][0][0]\n",
    "            condprob[t][c] = (Tct+1) / (cla_len[c]+V)\n",
    "    return prior, condprob"
   ]
  },
  {
   "cell_type": "code",
   "execution_count": 14,
   "id": "e1b03fea",
   "metadata": {
    "execution": {
     "iopub.execute_input": "2023-12-04T15:32:40.910940Z",
     "iopub.status.busy": "2023-12-04T15:32:40.910507Z",
     "iopub.status.idle": "2023-12-04T15:32:41.542511Z",
     "shell.execute_reply": "2023-12-04T15:32:41.541258Z"
    },
    "papermill": {
     "duration": 0.642426,
     "end_time": "2023-12-04T15:32:41.545292",
     "exception": false,
     "start_time": "2023-12-04T15:32:40.902866",
     "status": "completed"
    },
    "tags": []
   },
   "outputs": [],
   "source": [
    "prior, condprob = TrainMNB(df500)"
   ]
  },
  {
   "cell_type": "code",
   "execution_count": 15,
   "id": "f0eb0f03",
   "metadata": {
    "execution": {
     "iopub.execute_input": "2023-12-04T15:32:41.558615Z",
     "iopub.status.busy": "2023-12-04T15:32:41.558221Z",
     "iopub.status.idle": "2023-12-04T15:32:41.564788Z",
     "shell.execute_reply": "2023-12-04T15:32:41.563623Z"
    },
    "papermill": {
     "duration": 0.016014,
     "end_time": "2023-12-04T15:32:41.567109",
     "exception": false,
     "start_time": "2023-12-04T15:32:41.551095",
     "status": "completed"
    },
    "tags": []
   },
   "outputs": [],
   "source": [
    "def ApplyMNB(prior, condprob, d_idx):\n",
    "    w = extract_doc(d_idx)\n",
    "    score = []\n",
    "    for c in range(df.shape[0]):\n",
    "        score.append(math.log(prior[c]))\n",
    "        for t in w:\n",
    "            if t not in term500:\n",
    "                continue\n",
    "            score[c] += math.log(condprob[t][c])\n",
    "    return np.argmax(score)+1"
   ]
  },
  {
   "cell_type": "code",
   "execution_count": 16,
   "id": "cbd6a98a",
   "metadata": {
    "execution": {
     "iopub.execute_input": "2023-12-04T15:32:41.582474Z",
     "iopub.status.busy": "2023-12-04T15:32:41.582015Z",
     "iopub.status.idle": "2023-12-04T15:32:41.596163Z",
     "shell.execute_reply": "2023-12-04T15:32:41.594605Z"
    },
    "papermill": {
     "duration": 0.025694,
     "end_time": "2023-12-04T15:32:41.598832",
     "exception": false,
     "start_time": "2023-12-04T15:32:41.573138",
     "status": "completed"
    },
    "tags": []
   },
   "outputs": [],
   "source": [
    "testing = []\n",
    "for i in range(1,1096):\n",
    "    if i not in training:\n",
    "        testing.append(i)"
   ]
  },
  {
   "cell_type": "code",
   "execution_count": 17,
   "id": "cfa68e94",
   "metadata": {
    "execution": {
     "iopub.execute_input": "2023-12-04T15:32:41.612917Z",
     "iopub.status.busy": "2023-12-04T15:32:41.612488Z",
     "iopub.status.idle": "2023-12-04T15:33:22.265640Z",
     "shell.execute_reply": "2023-12-04T15:33:22.264612Z"
    },
    "papermill": {
     "duration": 40.663694,
     "end_time": "2023-12-04T15:33:22.268594",
     "exception": false,
     "start_time": "2023-12-04T15:32:41.604900",
     "status": "completed"
    },
    "tags": []
   },
   "outputs": [],
   "source": [
    "result = {}\n",
    "for i in testing:\n",
    "    c = ApplyMNB(prior, condprob, i)\n",
    "    result[i] = c"
   ]
  },
  {
   "cell_type": "code",
   "execution_count": 18,
   "id": "9f183928",
   "metadata": {
    "execution": {
     "iopub.execute_input": "2023-12-04T15:33:22.286100Z",
     "iopub.status.busy": "2023-12-04T15:33:22.284806Z",
     "iopub.status.idle": "2023-12-04T15:33:22.311143Z",
     "shell.execute_reply": "2023-12-04T15:33:22.309067Z"
    },
    "papermill": {
     "duration": 0.038643,
     "end_time": "2023-12-04T15:33:22.314335",
     "exception": false,
     "start_time": "2023-12-04T15:33:22.275692",
     "status": "completed"
    },
    "tags": []
   },
   "outputs": [],
   "source": [
    "ori = pd.read_csv(\"/kaggle/input/2023-irtmhw3/hw3_sam.csv\", delimiter=',')\n",
    "ori['Value'] = ori['Id'].map(result)\n",
    "ori.to_csv(\"/kaggle/working/hw3_res.csv\", index=False)"
   ]
  },
  {
   "cell_type": "code",
   "execution_count": 19,
   "id": "30bb98c8",
   "metadata": {
    "execution": {
     "iopub.execute_input": "2023-12-04T15:33:22.330770Z",
     "iopub.status.busy": "2023-12-04T15:33:22.330304Z",
     "iopub.status.idle": "2023-12-04T15:33:22.338110Z",
     "shell.execute_reply": "2023-12-04T15:33:22.336871Z"
    },
    "papermill": {
     "duration": 0.019988,
     "end_time": "2023-12-04T15:33:22.341420",
     "exception": false,
     "start_time": "2023-12-04T15:33:22.321432",
     "status": "completed"
    },
    "tags": []
   },
   "outputs": [],
   "source": [
    "fin = pd.read_csv(\"/kaggle/working/hw3_res.csv\", delimiter=',')"
   ]
  },
  {
   "cell_type": "code",
   "execution_count": 20,
   "id": "11e4f265",
   "metadata": {
    "execution": {
     "iopub.execute_input": "2023-12-04T15:33:22.355630Z",
     "iopub.status.busy": "2023-12-04T15:33:22.355141Z",
     "iopub.status.idle": "2023-12-04T15:33:22.372913Z",
     "shell.execute_reply": "2023-12-04T15:33:22.371269Z"
    },
    "papermill": {
     "duration": 0.028798,
     "end_time": "2023-12-04T15:33:22.376319",
     "exception": false,
     "start_time": "2023-12-04T15:33:22.347521",
     "status": "completed"
    },
    "tags": []
   },
   "outputs": [
    {
     "data": {
      "text/html": [
       "<div>\n",
       "<style scoped>\n",
       "    .dataframe tbody tr th:only-of-type {\n",
       "        vertical-align: middle;\n",
       "    }\n",
       "\n",
       "    .dataframe tbody tr th {\n",
       "        vertical-align: top;\n",
       "    }\n",
       "\n",
       "    .dataframe thead th {\n",
       "        text-align: right;\n",
       "    }\n",
       "</style>\n",
       "<table border=\"1\" class=\"dataframe\">\n",
       "  <thead>\n",
       "    <tr style=\"text-align: right;\">\n",
       "      <th></th>\n",
       "      <th>Id</th>\n",
       "      <th>Value</th>\n",
       "    </tr>\n",
       "  </thead>\n",
       "  <tbody>\n",
       "    <tr>\n",
       "      <th>0</th>\n",
       "      <td>17</td>\n",
       "      <td>2</td>\n",
       "    </tr>\n",
       "    <tr>\n",
       "      <th>1</th>\n",
       "      <td>18</td>\n",
       "      <td>2</td>\n",
       "    </tr>\n",
       "    <tr>\n",
       "      <th>2</th>\n",
       "      <td>20</td>\n",
       "      <td>2</td>\n",
       "    </tr>\n",
       "    <tr>\n",
       "      <th>3</th>\n",
       "      <td>21</td>\n",
       "      <td>2</td>\n",
       "    </tr>\n",
       "    <tr>\n",
       "      <th>4</th>\n",
       "      <td>22</td>\n",
       "      <td>2</td>\n",
       "    </tr>\n",
       "    <tr>\n",
       "      <th>...</th>\n",
       "      <td>...</td>\n",
       "      <td>...</td>\n",
       "    </tr>\n",
       "    <tr>\n",
       "      <th>895</th>\n",
       "      <td>1091</td>\n",
       "      <td>6</td>\n",
       "    </tr>\n",
       "    <tr>\n",
       "      <th>896</th>\n",
       "      <td>1092</td>\n",
       "      <td>6</td>\n",
       "    </tr>\n",
       "    <tr>\n",
       "      <th>897</th>\n",
       "      <td>1093</td>\n",
       "      <td>6</td>\n",
       "    </tr>\n",
       "    <tr>\n",
       "      <th>898</th>\n",
       "      <td>1094</td>\n",
       "      <td>6</td>\n",
       "    </tr>\n",
       "    <tr>\n",
       "      <th>899</th>\n",
       "      <td>1095</td>\n",
       "      <td>9</td>\n",
       "    </tr>\n",
       "  </tbody>\n",
       "</table>\n",
       "<p>900 rows × 2 columns</p>\n",
       "</div>"
      ],
      "text/plain": [
       "       Id  Value\n",
       "0      17      2\n",
       "1      18      2\n",
       "2      20      2\n",
       "3      21      2\n",
       "4      22      2\n",
       "..    ...    ...\n",
       "895  1091      6\n",
       "896  1092      6\n",
       "897  1093      6\n",
       "898  1094      6\n",
       "899  1095      9\n",
       "\n",
       "[900 rows x 2 columns]"
      ]
     },
     "execution_count": 20,
     "metadata": {},
     "output_type": "execute_result"
    }
   ],
   "source": [
    "fin"
   ]
  },
  {
   "cell_type": "code",
   "execution_count": null,
   "id": "e33fbb96",
   "metadata": {
    "papermill": {
     "duration": 0.007058,
     "end_time": "2023-12-04T15:33:22.390190",
     "exception": false,
     "start_time": "2023-12-04T15:33:22.383132",
     "status": "completed"
    },
    "tags": []
   },
   "outputs": [],
   "source": []
  }
 ],
 "metadata": {
  "kaggle": {
   "accelerator": "none",
   "dataSources": [
    {
     "databundleVersionId": 7050671,
     "sourceId": 64322,
     "sourceType": "competition"
    },
    {
     "datasetId": 4024093,
     "sourceId": 7000180,
     "sourceType": "datasetVersion"
    },
    {
     "datasetId": 4041027,
     "sourceId": 7026431,
     "sourceType": "datasetVersion"
    }
   ],
   "dockerImageVersionId": 30587,
   "isGpuEnabled": false,
   "isInternetEnabled": false,
   "language": "python",
   "sourceType": "notebook"
  },
  "kernelspec": {
   "display_name": "Python 3",
   "language": "python",
   "name": "python3"
  },
  "language_info": {
   "codemirror_mode": {
    "name": "ipython",
    "version": 3
   },
   "file_extension": ".py",
   "mimetype": "text/x-python",
   "name": "python",
   "nbconvert_exporter": "python",
   "pygments_lexer": "ipython3",
   "version": "3.10.12"
  },
  "papermill": {
   "default_parameters": {},
   "duration": 109.47946,
   "end_time": "2023-12-04T15:33:23.422842",
   "environment_variables": {},
   "exception": null,
   "input_path": "__notebook__.ipynb",
   "output_path": "__notebook__.ipynb",
   "parameters": {},
   "start_time": "2023-12-04T15:31:33.943382",
   "version": "2.4.0"
  }
 },
 "nbformat": 4,
 "nbformat_minor": 5
}
